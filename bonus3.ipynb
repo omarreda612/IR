{
 "cells": [
  {
   "cell_type": "code",
   "execution_count": 8,
   "metadata": {},
   "outputs": [
    {
     "data": {
      "text/plain": [
       "Unnamed: 0    0\n",
       "Calories      0\n",
       "Fat (g)       0\n",
       "Carb. (g)     0\n",
       "Fiber (g)     0\n",
       "Protein       0\n",
       "Sodium        0\n",
       "dtype: int64"
      ]
     },
     "execution_count": 8,
     "metadata": {},
     "output_type": "execute_result"
    }
   ],
   "source": [
    "import pandas as ps\n",
    "ps.set_option('display.max_rows', 60)\n",
    "ps.set_option('display.max_columns', 60)\n",
    "data = ps.read_csv(r'C:\\Users\\Admin\\Documents\\cis\\level3\\IR\\section\\starbucks-menu-nutrition-drinks.csv')\n",
    "data.dropna()\n",
    "data.isna().sum()\n",
    "\n"
   ]
  }
 ],
 "metadata": {
  "kernelspec": {
   "display_name": "Python 3",
   "language": "python",
   "name": "python3"
  },
  "language_info": {
   "codemirror_mode": {
    "name": "ipython",
    "version": 3
   },
   "file_extension": ".py",
   "mimetype": "text/x-python",
   "name": "python",
   "nbconvert_exporter": "python",
   "pygments_lexer": "ipython3",
   "version": "3.11.2"
  },
  "orig_nbformat": 4
 },
 "nbformat": 4,
 "nbformat_minor": 2
}
